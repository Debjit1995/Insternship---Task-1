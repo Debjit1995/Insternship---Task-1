{
 "cells": [
  {
   "cell_type": "code",
   "execution_count": 1,
   "id": "74fbf8dc-62c8-4cda-b8bd-a1648fa6cab5",
   "metadata": {},
   "outputs": [],
   "source": [
    "import pandas as pd"
   ]
  },
  {
   "cell_type": "code",
   "execution_count": 3,
   "id": "35c94ec1-f43a-4d97-8764-03f98714ec58",
   "metadata": {},
   "outputs": [],
   "source": [
    "# Load dataset\n",
    "df = pd.read_csv(\"netflix_titles.csv\")"
   ]
  },
  {
   "cell_type": "code",
   "execution_count": 5,
   "id": "d7229ed3-3899-4328-ab91-84ce69b46dd1",
   "metadata": {},
   "outputs": [
    {
     "name": "stdout",
     "output_type": "stream",
     "text": [
      "Missing values before cleaning:\n",
      " show_id            0\n",
      "type               0\n",
      "title              0\n",
      "director        2634\n",
      "cast             825\n",
      "country          831\n",
      "date_added        10\n",
      "release_year       0\n",
      "rating             4\n",
      "duration           3\n",
      "listed_in          0\n",
      "description        0\n",
      "dtype: int64\n"
     ]
    }
   ],
   "source": [
    "# Step 1: Identify and handle missing values\n",
    "print(\"Missing values before cleaning:\\n\", df.isnull().sum())"
   ]
  },
  {
   "cell_type": "code",
   "execution_count": 7,
   "id": "08cff220-ba70-4372-b331-cee3d80a9b53",
   "metadata": {},
   "outputs": [],
   "source": [
    "# Step 2: Remove duplicate rows\n",
    "df_cleaned = df.drop_duplicates()"
   ]
  },
  {
   "cell_type": "code",
   "execution_count": 9,
   "id": "2fbbd508-51a0-472a-9ce6-e813207c9bf6",
   "metadata": {},
   "outputs": [],
   "source": [
    "# Step 3: Standardize text values (e.g., strip and title-case country names)\n",
    "df_cleaned['country'] = df_cleaned['country'].str.strip().str.title()"
   ]
  },
  {
   "cell_type": "code",
   "execution_count": 11,
   "id": "910fc123-f76e-4ae5-9371-f8fc20eca7c1",
   "metadata": {},
   "outputs": [],
   "source": [
    "# Step 4: Convert date formats to a consistent type\n",
    "df_cleaned['date_added'] = pd.to_datetime(df_cleaned['date_added'], errors='coerce')"
   ]
  },
  {
   "cell_type": "code",
   "execution_count": 13,
   "id": "602938c8-9b93-461d-89c3-b027605eaba9",
   "metadata": {},
   "outputs": [],
   "source": [
    "# Step 5: Rename column headers to lowercase and remove spaces\n",
    "df_cleaned.columns = df_cleaned.columns.str.strip().str.lower().str.replace(\" \", \"_\")"
   ]
  },
  {
   "cell_type": "code",
   "execution_count": 15,
   "id": "fd48d01c-b110-423c-9802-e690a50f91fe",
   "metadata": {},
   "outputs": [],
   "source": [
    "# Step 6: Check and fix data types\n",
    "df_cleaned['release_year'] = pd.to_numeric(df_cleaned['release_year'], errors='coerce')"
   ]
  },
  {
   "cell_type": "code",
   "execution_count": 17,
   "id": "0ddbb377-bf14-4d51-9162-2ff179f21c37",
   "metadata": {},
   "outputs": [
    {
     "name": "stdout",
     "output_type": "stream",
     "text": [
      "\n",
      "Missing values after cleaning:\n",
      " show_id            0\n",
      "type               0\n",
      "title              0\n",
      "director        2634\n",
      "cast             825\n",
      "country          831\n",
      "date_added        98\n",
      "release_year       0\n",
      "rating             4\n",
      "duration           3\n",
      "listed_in          0\n",
      "description        0\n",
      "dtype: int64\n"
     ]
    }
   ],
   "source": [
    "print(\"\\nMissing values after cleaning:\\n\", df_cleaned.isnull().sum())"
   ]
  },
  {
   "cell_type": "code",
   "execution_count": 19,
   "id": "efd46114-8576-4018-a3b5-375dbd1839ea",
   "metadata": {},
   "outputs": [
    {
     "name": "stdout",
     "output_type": "stream",
     "text": [
      "\n",
      "Column names:\n",
      " ['show_id', 'type', 'title', 'director', 'cast', 'country', 'date_added', 'release_year', 'rating', 'duration', 'listed_in', 'description']\n"
     ]
    }
   ],
   "source": [
    "print(\"\\nColumn names:\\n\", df_cleaned.columns.tolist())"
   ]
  },
  {
   "cell_type": "code",
   "execution_count": 21,
   "id": "72b99772-febd-43dd-88d8-efd26d4ad816",
   "metadata": {},
   "outputs": [
    {
     "name": "stdout",
     "output_type": "stream",
     "text": [
      "\n",
      "Data types:\n",
      " show_id                 object\n",
      "type                    object\n",
      "title                   object\n",
      "director                object\n",
      "cast                    object\n",
      "country                 object\n",
      "date_added      datetime64[ns]\n",
      "release_year             int64\n",
      "rating                  object\n",
      "duration                object\n",
      "listed_in               object\n",
      "description             object\n",
      "dtype: object\n"
     ]
    }
   ],
   "source": [
    "print(\"\\nData types:\\n\", df_cleaned.dtypes)"
   ]
  },
  {
   "cell_type": "code",
   "execution_count": 23,
   "id": "ed14fbc8-a1c5-4c6e-baac-05c3c74a8dc4",
   "metadata": {},
   "outputs": [],
   "source": [
    "# Handle missing values\n",
    "df['director'] = df['director'].fillna('Unknown')\n",
    "df['cast'] = df['cast'].fillna('Not Specified')\n",
    "df['country'] = df['country'].fillna(df['country'].mode()[0])  # Fill with most common country\n",
    "df = df.dropna(subset=['date_added'])  # Drop rows with missing date\n",
    "df['rating'] = df['rating'].fillna('Not Rated')\n",
    "df['duration'] = df['duration'].fillna('Not Specified')"
   ]
  },
  {
   "cell_type": "code",
   "execution_count": 25,
   "id": "2dc9e66a-3bb3-4fcc-9254-94888a8eab2f",
   "metadata": {},
   "outputs": [],
   "source": [
    "# Ensure correct data types\n",
    "df['release_year'] = pd.to_numeric(df['release_year'], errors='coerce')"
   ]
  },
  {
   "cell_type": "code",
   "execution_count": 29,
   "id": "a21d2bb5-5f11-404c-8940-b2a9d39f3dde",
   "metadata": {},
   "outputs": [
    {
     "name": "stdout",
     "output_type": "stream",
     "text": [
      "Missing values after full cleaning:\n",
      " show_id         0\n",
      "type            0\n",
      "title           0\n",
      "director        0\n",
      "cast            0\n",
      "country         0\n",
      "date_added      0\n",
      "release_year    0\n",
      "rating          0\n",
      "duration        0\n",
      "listed_in       0\n",
      "description     0\n",
      "dtype: int64\n"
     ]
    }
   ],
   "source": [
    "#Final check\n",
    "print(\"Missing values after full cleaning:\\n\", df.isnull().sum())"
   ]
  },
  {
   "cell_type": "code",
   "execution_count": 31,
   "id": "5c870257-1f91-4b30-bf9c-397cb79ba3fd",
   "metadata": {},
   "outputs": [
    {
     "name": "stdout",
     "output_type": "stream",
     "text": [
      "Cleaned dataset shape: (8797, 12)\n"
     ]
    }
   ],
   "source": [
    "print(\"Cleaned dataset shape:\", df.shape)"
   ]
  },
  {
   "cell_type": "code",
   "execution_count": 33,
   "id": "89087278-6284-4951-bcab-bb07f5a105ea",
   "metadata": {},
   "outputs": [],
   "source": [
    "#Save cleaned dataset\n",
    "df.to_csv(\"netflix_titles_cleaned_v2.csv\", index=False)"
   ]
  },
  {
   "cell_type": "code",
   "execution_count": 35,
   "id": "ce5d719a-8ac2-45d0-986a-ca04be890a1a",
   "metadata": {},
   "outputs": [
    {
     "name": "stdout",
     "output_type": "stream",
     "text": [
      "C:\\Users\\debji\n"
     ]
    }
   ],
   "source": [
    "import os\n",
    "print(os.getcwd())"
   ]
  },
  {
   "cell_type": "code",
   "execution_count": null,
   "id": "2c78ca34-7009-47a5-bf2a-5ba755fb0c50",
   "metadata": {},
   "outputs": [],
   "source": []
  }
 ],
 "metadata": {
  "kernelspec": {
   "display_name": "Python 3 (ipykernel)",
   "language": "python",
   "name": "python3"
  },
  "language_info": {
   "codemirror_mode": {
    "name": "ipython",
    "version": 3
   },
   "file_extension": ".py",
   "mimetype": "text/x-python",
   "name": "python",
   "nbconvert_exporter": "python",
   "pygments_lexer": "ipython3",
   "version": "3.12.4"
  }
 },
 "nbformat": 4,
 "nbformat_minor": 5
}
